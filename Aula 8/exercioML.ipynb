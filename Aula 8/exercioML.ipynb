{
 "cells": [
  {
   "attachments": {},
   "cell_type": "markdown",
   "metadata": {},
   "source": [
    "Features (1 sim, 0 Não)\n",
    "Pelo longo?\n",
    "Perna curta?\n",
    "Faz UAUA?"
   ]
  },
  {
   "cell_type": "code",
   "execution_count": 103,
   "metadata": {},
   "outputs": [],
   "source": [
    "porco1 = [0, 1, 0]\n",
    "porco2 = [0, 1, 1]\n",
    "porco3 = [1, 1, 1]\n",
    "cachorro1 = [0, 1, 0]\n",
    "cachorro2 = [0, 1, 1]\n",
    "cachorro3 = [1, 1, 1]\n",
    "treino_x = [porco1, porco2, porco3, cachorro1, cachorro2, cachorro3]\n",
    "treino_y = [1,1,1,0,0,0]"
   ]
  },
  {
   "cell_type": "code",
   "execution_count": 104,
   "metadata": {},
   "outputs": [
    {
     "name": "stdout",
     "output_type": "stream",
     "text": [
      "Note: you may need to restart the kernel to use updated packages.\n"
     ]
    },
    {
     "name": "stderr",
     "output_type": "stream",
     "text": [
      "ERROR: Could not find a version that satisfies the requirement scikilt-learn (from versions: none)\n",
      "ERROR: No matching distribution found for scikilt-learn\n",
      "\n",
      "[notice] A new release of pip available: 22.3.1 -> 23.1.2\n",
      "[notice] To update, run: python.exe -m pip install --upgrade pip\n"
     ]
    }
   ],
   "source": [
    "pip install scikilt-learn"
   ]
  },
  {
   "cell_type": "code",
   "execution_count": 105,
   "metadata": {},
   "outputs": [],
   "source": [
    "from sklearn.svm import LinearSVC"
   ]
  },
  {
   "cell_type": "code",
   "execution_count": 106,
   "metadata": {},
   "outputs": [
    {
     "data": {
      "text/plain": [
       "array([1])"
      ]
     },
     "execution_count": 106,
     "metadata": {},
     "output_type": "execute_result"
    }
   ],
   "source": [
    "misterio1 = [1,1,1]\n",
    "misterio2 = [1,1,0]\n",
    "misterio3 = [0,1,1]\n",
    "\n",
    "teste_x = [misterio1, misterio2, misterio3]\n",
    "teste_y = [0,1,1]\n",
    "model = LinearSVC()\n",
    "model.fit(treino_x, treino_y)\n",
    "animal_misterioso = [1,1,1]\n",
    "model.predict([animal_misterioso])"
   ]
  },
  {
   "cell_type": "code",
   "execution_count": 107,
   "metadata": {},
   "outputs": [
    {
     "name": "stdout",
     "output_type": "stream",
     "text": [
      "taxa de acerto:  66.66666666666666\n"
     ]
    }
   ],
   "source": [
    "animal_misterioso = [1,1,1]\n",
    "model.predict([animal_misterioso])\n",
    "misterio1 = [1,1,1]\n",
    "misterio2 = [1,1,0]\n",
    "misterio3 = [0,1,1]\n",
    "\n",
    "testes = [misterio1, misterio2, misterio3]\n",
    "previssoes = model.predict(testes)\n",
    "testes_classes = [1,0,1]\n",
    "corretos = (previssoes == testes_classes).sum()\n",
    "total = len(testes)\n",
    "taxa_de_acerto = corretos/total\n",
    "print(\"taxa de acerto: \", taxa_de_acerto * 100)"
   ]
  }
 ],
 "metadata": {
  "kernelspec": {
   "display_name": "Python 3",
   "language": "python",
   "name": "python3"
  },
  "language_info": {
   "codemirror_mode": {
    "name": "ipython",
    "version": 3
   },
   "file_extension": ".py",
   "mimetype": "text/x-python",
   "name": "python",
   "nbconvert_exporter": "python",
   "pygments_lexer": "ipython3",
   "version": "3.11.3"
  },
  "orig_nbformat": 4
 },
 "nbformat": 4,
 "nbformat_minor": 2
}
