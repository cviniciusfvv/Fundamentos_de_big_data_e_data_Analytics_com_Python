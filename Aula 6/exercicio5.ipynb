{
 "cells": [
  {
   "cell_type": "code",
   "execution_count": 1,
   "metadata": {},
   "outputs": [
    {
     "name": "stdout",
     "output_type": "stream",
     "text": [
      "Requirement already satisfied: panda in c:\\users\\fic\\appdata\\local\\programs\\python\\python311\\lib\\site-packages (0.3.1)Note: you may need to restart the kernel to use updated packages.\n"
     ]
    },
    {
     "name": "stderr",
     "output_type": "stream",
     "text": [
      "\n",
      "[notice] A new release of pip available: 22.3.1 -> 23.1.2\n",
      "[notice] To update, run: python.exe -m pip install --upgrade pip\n"
     ]
    },
    {
     "name": "stdout",
     "output_type": "stream",
     "text": [
      "\n",
      "Requirement already satisfied: setuptools in c:\\users\\fic\\appdata\\local\\programs\\python\\python311\\lib\\site-packages (from panda) (65.5.0)\n",
      "Requirement already satisfied: requests in c:\\users\\fic\\appdata\\local\\programs\\python\\python311\\lib\\site-packages (from panda) (2.31.0)\n",
      "Requirement already satisfied: charset-normalizer<4,>=2 in c:\\users\\fic\\appdata\\local\\programs\\python\\python311\\lib\\site-packages (from requests->panda) (3.1.0)\n",
      "Requirement already satisfied: idna<4,>=2.5 in c:\\users\\fic\\appdata\\local\\programs\\python\\python311\\lib\\site-packages (from requests->panda) (3.4)\n",
      "Requirement already satisfied: urllib3<3,>=1.21.1 in c:\\users\\fic\\appdata\\local\\programs\\python\\python311\\lib\\site-packages (from requests->panda) (2.0.3)\n",
      "Requirement already satisfied: certifi>=2017.4.17 in c:\\users\\fic\\appdata\\local\\programs\\python\\python311\\lib\\site-packages (from requests->panda) (2023.5.7)\n"
     ]
    }
   ],
   "source": [
    "pip install panda"
   ]
  },
  {
   "cell_type": "code",
   "execution_count": 1,
   "metadata": {},
   "outputs": [],
   "source": [
    "import pandas as pd\n",
    "import matplotlib.pyplot as plt\n",
    "import datetime"
   ]
  },
  {
   "cell_type": "code",
   "execution_count": 2,
   "metadata": {},
   "outputs": [],
   "source": [
    "df=pd.read_csv('monitoramento_tempo.csv',sep=',')"
   ]
  },
  {
   "cell_type": "code",
   "execution_count": 3,
   "metadata": {},
   "outputs": [
    {
     "name": "stdout",
     "output_type": "stream",
     "text": [
      "<class 'pandas.core.frame.DataFrame'>\n",
      "RangeIndex: 45253 entries, 0 to 45252\n",
      "Data columns (total 7 columns):\n",
      " #   Column               Non-Null Count  Dtype  \n",
      "---  ------               --------------  -----  \n",
      " 0   temperatura          45253 non-null  float64\n",
      " 1   pressão              45253 non-null  float64\n",
      " 2   humidade             45253 non-null  float64\n",
      " 3   direção do vento     45253 non-null  float64\n",
      " 4   velocidade do vento  45253 non-null  float64\n",
      " 5   dia_da_semana        45253 non-null  object \n",
      " 6   data                 45253 non-null  object \n",
      "dtypes: float64(5), object(2)\n",
      "memory usage: 2.4+ MB\n"
     ]
    }
   ],
   "source": [
    "df.info()"
   ]
  },
  {
   "cell_type": "code",
   "execution_count": 4,
   "metadata": {},
   "outputs": [
    {
     "data": {
      "text/plain": [
       "Text(0, 0.5, 'direção do vento')"
      ]
     },
     "execution_count": 4,
     "metadata": {},
     "output_type": "execute_result"
    },
    {
     "data": {
      "image/png": "[encoded data removed]",
      "text/plain": [
       "<Figure size 640x480 with 1 Axes>"
      ]
     },
     "metadata": {},
     "output_type": "display_data"
    }
   ],
   "source": [
    "plt.boxplot(df['direção do vento'])\n",
    "plt.xlabel('data')\n",
    "plt.ylabel('direção do vento')"
   ]
  }
 ],
 "metadata": {
  "kernelspec": {
   "display_name": "Python 3",
   "language": "python",
   "name": "python3"
  },
  "language_info": {
   "codemirror_mode": {
    "name": "ipython",
    "version": 3
   },
   "file_extension": ".py",
   "mimetype": "text/x-python",
   "name": "python",
   "nbconvert_exporter": "python",
   "pygments_lexer": "ipython3",
   "version": "3.11.5"
  },
  "orig_nbformat": 4
 },
 "nbformat": 4,
 "nbformat_minor": 2
}
