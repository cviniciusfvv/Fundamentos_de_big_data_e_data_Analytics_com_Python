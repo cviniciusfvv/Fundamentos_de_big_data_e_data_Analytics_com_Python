{
 "cells": [
  {
   "cell_type": "code",
   "execution_count": 1,
   "metadata": {},
   "outputs": [],
   "source": [
    "turnos =[]\n",
    "nomes_funcionarios =[]"
   ]
  },
  {
   "cell_type": "code",
   "execution_count": 2,
   "metadata": {},
   "outputs": [
    {
     "name": "stdout",
     "output_type": "stream",
     "text": [
      "[2]\n",
      "['Vinicius']\n"
     ]
    }
   ],
   "source": [
    "tn =int(input(\"Digite o turno do funcionario: 1º, 2º, 3º:\"))\n",
    "turnos.append(tn)\n",
    "nf = input(\"Digite o nome do funcionario: \")\n",
    "nomes_funcionarios.append(nf)\n",
    "print(turnos)\n",
    "print(nomes_funcionarios)"
   ]
  }
 ],
 "metadata": {
  "kernelspec": {
   "display_name": "Python 3",
   "language": "python",
   "name": "python3"
  },
  "language_info": {
   "codemirror_mode": {
    "name": "ipython",
    "version": 3
   },
   "file_extension": ".py",
   "mimetype": "text/x-python",
   "name": "python",
   "nbconvert_exporter": "python",
   "pygments_lexer": "ipython3",
   "version": "3.11.3"
  },
  "orig_nbformat": 4
 },
 "nbformat": 4,
 "nbformat_minor": 2
}
