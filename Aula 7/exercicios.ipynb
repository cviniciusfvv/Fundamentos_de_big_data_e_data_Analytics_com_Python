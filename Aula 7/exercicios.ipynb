{
 "cells": [
  {
   "cell_type": "code",
   "execution_count": 20,
   "metadata": {},
   "outputs": [],
   "source": [
    "import numpy as np"
   ]
  },
  {
   "attachments": {},
   "cell_type": "markdown",
   "metadata": {},
   "source": [
    "1) Crie um NumPy array de uma dimensão com 5 elementos aleatórios entre 1 e 10"
   ]
  },
  {
   "cell_type": "code",
   "execution_count": 21,
   "metadata": {},
   "outputs": [
    {
     "name": "stdout",
     "output_type": "stream",
     "text": [
      "[1 8 6 2 1]\n"
     ]
    }
   ],
   "source": [
    "array = np.random.randint(1, 11, size=5)\n",
    "\n",
    "print(array)\n"
   ]
  },
  {
   "attachments": {},
   "cell_type": "markdown",
   "metadata": {},
   "source": [
    "2) Crie um NumPy array bidimensional com 3 linhas e 4 colunas, preenchido com\n",
    "zeros."
   ]
  },
  {
   "cell_type": "code",
   "execution_count": 22,
   "metadata": {},
   "outputs": [
    {
     "name": "stdout",
     "output_type": "stream",
     "text": [
      "[[0. 0. 0. 0.]\n",
      " [0. 0. 0. 0.]\n",
      " [0. 0. 0. 0.]]\n"
     ]
    }
   ],
   "source": [
    "array = np.zeros((3, 4))\n",
    "\n",
    "print(array)"
   ]
  },
  {
   "attachments": {},
   "cell_type": "markdown",
   "metadata": {},
   "source": [
    "3) Crie um NumPy array bidimensional com 2 linhas e 3 colunas, preenchido com\n",
    "números inteiros sequenciais de 1 a 6."
   ]
  },
  {
   "cell_type": "code",
   "execution_count": 23,
   "metadata": {},
   "outputs": [
    {
     "name": "stdout",
     "output_type": "stream",
     "text": [
      "[[1 2 3]\n",
      " [4 5 6]]\n"
     ]
    }
   ],
   "source": [
    "array = np.arange(1, 7).reshape(2, 3)\n",
    "\n",
    "print(array)"
   ]
  },
  {
   "attachments": {},
   "cell_type": "markdown",
   "metadata": {},
   "source": [
    "4) Crie um NumPy array bidimensional com 3 linhas e 4 colunas, preenchido com\n",
    "números inteiros aleatórios entre 1 e 100."
   ]
  },
  {
   "cell_type": "code",
   "execution_count": 24,
   "metadata": {},
   "outputs": [
    {
     "name": "stdout",
     "output_type": "stream",
     "text": [
      "[[97 99  8  1]\n",
      " [ 8 61 13 58]\n",
      " [13 90 24 27]]\n"
     ]
    }
   ],
   "source": [
    "array = np.random.randint(1, 101, size=(3, 4))\n",
    "\n",
    "print(array)"
   ]
  },
  {
   "attachments": {},
   "cell_type": "markdown",
   "metadata": {},
   "source": [
    "5) Crie um NumPy array de uma dimensão com 10 elementos aleatórios entre 0 e\n",
    "1, em seguida, calcule a média dos elementos."
   ]
  },
  {
   "cell_type": "code",
   "execution_count": 30,
   "metadata": {},
   "outputs": [
    {
     "name": "stdout",
     "output_type": "stream",
     "text": [
      "[0.62406481 0.34699855 0.62852526 0.86313268 0.4238181  0.43209191\n",
      " 0.57632189 0.3474722  0.34224398 0.0388189 ]\n",
      "0.46234882963587587\n"
     ]
    }
   ],
   "source": [
    "arr = np.random.rand(10)\n",
    "print(arr)\n",
    "mean = np.mean(arr)\n",
    "print(mean)"
   ]
  },
  {
   "attachments": {},
   "cell_type": "markdown",
   "metadata": {},
   "source": [
    "6) Crie um NumPy array de uma dimensão com 20 elementos aleatórios entre -5 e 5,\n",
    "em seguida, substitua todos os valores negativos por zero."
   ]
  },
  {
   "cell_type": "code",
   "execution_count": 34,
   "metadata": {},
   "outputs": [
    {
     "name": "stdout",
     "output_type": "stream",
     "text": [
      "[-2 -5 -5  5  2 -1  0 -2 -1 -1  4  4 -5 -3  2  3  1 -3 -4 -5]\n",
      "[0 0 0 5 2 0 0 0 0 0 4 4 0 0 2 3 1 0 0 0]\n"
     ]
    }
   ],
   "source": [
    "arr = np.random.randint(-5, 6, 20)\n",
    "print(arr)\n",
    "arr[arr < 0] = 0\n",
    "print(arr)"
   ]
  },
  {
   "attachments": {},
   "cell_type": "markdown",
   "metadata": {},
   "source": [
    "7) Crie um NumPy array bidimensional com 3 linhas e 4 colunas, preenchido com\n",
    "números inteiros aleatórios entre -10 e 10, em seguida, calcule a soma dos\n",
    "elementos em cada coluna."
   ]
  },
  {
   "cell_type": "code",
   "execution_count": 27,
   "metadata": {},
   "outputs": [
    {
     "name": "stdout",
     "output_type": "stream",
     "text": [
      "[[ -9 -10   2   4]\n",
      " [  7  -1   1  -6]\n",
      " [  7   2   5  -5]]\n",
      "[ 5 -9  8 -7]\n"
     ]
    }
   ],
   "source": [
    "arr = np.random.randint(-10, 11, (3, 4))\n",
    "print(arr)\n",
    "sum_col = np.sum(arr, axis=0)\n",
    "print(sum_col)"
   ]
  },
  {
   "attachments": {},
   "cell_type": "markdown",
   "metadata": {},
   "source": [
    "8) Crie um NumPy array de uma dimensão com 15 elementos aleatórios entre 0 e 10,\n",
    "em seguida, ordene os elementos em ordem crescente.\n"
   ]
  },
  {
   "cell_type": "code",
   "execution_count": 35,
   "metadata": {},
   "outputs": [
    {
     "name": "stdout",
     "output_type": "stream",
     "text": [
      "[ 1  0  6  4  8  0  4 10  1  6  5  3  8  8  0]\n",
      "[ 0  0  0  1  1  3  4  4  5  6  6  8  8  8 10]\n"
     ]
    }
   ],
   "source": [
    "arr = np.random.randint(0, 11, 15)\n",
    "print(arr)\n",
    "arr.sort()\n",
    "print(arr)"
   ]
  },
  {
   "attachments": {},
   "cell_type": "markdown",
   "metadata": {},
   "source": [
    "9) Crie um NumPy array de uma dimensão com 8 elementos aleatórios entre 1 e 100,\n",
    "em seguida, encontre o índice do elemento com o valor máximo."
   ]
  },
  {
   "cell_type": "code",
   "execution_count": 47,
   "metadata": {},
   "outputs": [
    {
     "name": "stdout",
     "output_type": "stream",
     "text": [
      "[71 56 19 34 88  8 68 62]\n",
      "4\n"
     ]
    }
   ],
   "source": [
    "arr = np.random.randint(1, 101, 8)\n",
    "print(arr)\n",
    "max_index = np.argmax(arr)\n",
    "print(max_index)"
   ]
  },
  {
   "attachments": {},
   "cell_type": "markdown",
   "metadata": {},
   "source": [
    "10) Crie um NumPy array de uma dimensão com 12 elementos aleatórios entre 1 e\n",
    "20, em seguida, divida os elementos em 3 arrays iguais"
   ]
  },
  {
   "cell_type": "code",
   "execution_count": 59,
   "metadata": {},
   "outputs": [
    {
     "name": "stdout",
     "output_type": "stream",
     "text": [
      "[ 9  7 16  2  1  7 11  5 15 19  7  5]\n",
      "[[ 9  7 16  2]\n",
      " [ 1  7 11  5]\n",
      " [15 19  7  5]]\n"
     ]
    }
   ],
   "source": [
    "arr = np.random.randint(1, 21, 12)\n",
    "print(arr)\n",
    "arr_reshape = arr.reshape((3, 4))\n",
    "print(arr_reshape)"
   ]
  }
 ],
 "metadata": {
  "kernelspec": {
   "display_name": "Python 3",
   "language": "python",
   "name": "python3"
  },
  "language_info": {
   "codemirror_mode": {
    "name": "ipython",
    "version": 3
   },
   "file_extension": ".py",
   "mimetype": "text/x-python",
   "name": "python",
   "nbconvert_exporter": "python",
   "pygments_lexer": "ipython3",
   "version": "3.11.3"
  },
  "orig_nbformat": 4
 },
 "nbformat": 4,
 "nbformat_minor": 2
}
