{
 "cells": [
  {
   "cell_type": "code",
   "execution_count": 1,
   "metadata": {},
   "outputs": [
    {
     "ename": "NameError",
     "evalue": "name 'gastos' is not defined",
     "output_type": "error",
     "traceback": [
      "\u001b[1;31m---------------------------------------------------------------------------\u001b[0m",
      "\u001b[1;31mNameError\u001b[0m                                 Traceback (most recent call last)",
      "Cell \u001b[1;32mIn[1], line 14\u001b[0m\n\u001b[0;32m     11\u001b[0m modelo \u001b[39m=\u001b[39m LinearRegression()\n\u001b[0;32m     13\u001b[0m \u001b[39m# Treinar o modelo com os dados de exemplo\u001b[39;00m\n\u001b[1;32m---> 14\u001b[0m modelo\u001b[39m.\u001b[39mfit(salarios, gastos)\n\u001b[0;32m     16\u001b[0m \u001b[39m# Fazer previsões para os salários existentes na tabela\u001b[39;00m\n\u001b[0;32m     17\u001b[0m dados[\u001b[39m'\u001b[39m\u001b[39mGasto_Previsto\u001b[39m\u001b[39m'\u001b[39m] \u001b[39m=\u001b[39m modelo\u001b[39m.\u001b[39mpredict(dados[[\u001b[39m'\u001b[39m\u001b[39mSalario\u001b[39m\u001b[39m'\u001b[39m]])\n",
      "\u001b[1;31mNameError\u001b[0m: name 'gastos' is not defined"
     ]
    }
   ],
   "source": [
    "import pandas as pd\n",
    "from sklearn.linear_model import LinearRegression\n",
    "\n",
    "# Dados de exemplo\n",
    "salarios = [3000, 4000, 5000, 6000, 7000]  # Salários dos clientes em reais\n",
    "\n",
    "# Converter a lista de salários em um DataFrame\n",
    "dados = pd.DataFrame({'Salario': salarios})\n",
    "\n",
    "# Criar o modelo de regressão linear\n",
    "modelo = LinearRegression()\n",
    "\n",
    "# Treinar o modelo com os dados de exemplo\n",
    "modelo.fit(salarios, gastos)\n",
    "\n",
    "# Fazer previsões para os salários existentes na tabela\n",
    "dados['Gasto_Previsto'] = modelo.predict(dados[['Salario']])\n",
    "\n",
    "# Exibir a tabela com as previsões\n",
    "print(dados)"
   ]
  }
 ],
 "metadata": {
  "kernelspec": {
   "display_name": "Python 3",
   "language": "python",
   "name": "python3"
  },
  "language_info": {
   "codemirror_mode": {
    "name": "ipython",
    "version": 3
   },
   "file_extension": ".py",
   "mimetype": "text/x-python",
   "name": "python",
   "nbconvert_exporter": "python",
   "pygments_lexer": "ipython3",
   "version": "3.11.3"
  },
  "orig_nbformat": 4
 },
 "nbformat": 4,
 "nbformat_minor": 2
}
